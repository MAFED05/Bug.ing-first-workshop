{
 "cells": [
  {
   "attachments": {},
   "cell_type": "markdown",
   "metadata": {},
   "source": [
    "Leer un número entero y determinar si es par o impar"
   ]
  },
  {
   "cell_type": "code",
   "execution_count": 6,
   "metadata": {},
   "outputs": [
    {
     "name": "stdout",
     "output_type": "stream",
     "text": [
      "29 es impar\n"
     ]
    }
   ],
   "source": [
    "a : int\n",
    "a = int (input(\"Ingrese un número entero\"))\n",
    "if a % 2 == 0 :\n",
    "    print ((str(a)) + \" es par\")\n",
    "elif a % 2 == 1 : \n",
    "    print (str(a) + \" es impar\")"
   ]
  },
  {
   "attachments": {},
   "cell_type": "markdown",
   "metadata": {},
   "source": [
    "Leer 3 números reales y determinar si la suma de los 2 primeros es mayor, menor o igual que el tercero"
   ]
  },
  {
   "cell_type": "code",
   "execution_count": 13,
   "metadata": {},
   "outputs": [
    {
     "name": "stdout",
     "output_type": "stream",
     "text": [
      "2.0 + 5.0 es menor que 90.0\n"
     ]
    }
   ],
   "source": [
    "a: float\n",
    "b: float\n",
    "c: float\n",
    "a= float (input(\"Ingrese un número real\"))\n",
    "b= float (input(\"Ingrese un número real\"))\n",
    "c= float (input(\"Ingrese un número real\"))\n",
    "if a+b > c :\n",
    "    print (str(a) + (\" + \") + str(b) + (\" es mayor que \") +  (str(c)))\n",
    "elif a+b < c : \n",
    "    print (str(a) + (\" + \") + str(b) + (\" es menor que \") +  (str(c)))\n",
    "elif a+b == c :\n",
    "    print (str(a) + (\" + \") + str(b) + (\" es igual que \") +  (str(c)))\n"
   ]
  },
  {
   "attachments": {},
   "cell_type": "markdown",
   "metadata": {},
   "source": [
    "Leer 5 números reales y calcular el promedio, la mediana, el promedio multiplicativo, ordenar los números de manera ascendente y descendente, la potencia del mayor número elevado al menor número y la raíz cúbica del menor"
   ]
  },
  {
   "cell_type": "code",
   "execution_count": 9,
   "metadata": {},
   "outputs": [],
   "source": [
    "a: float\n",
    "b: float\n",
    "c: float\n",
    "d: float\n",
    "e: float\n",
    "x: float\n",
    "a=(input(\"Ingrese un número real\"))\n",
    "b=(input(\"Ingrese un número real\"))\n",
    "c=(input(\"Ingrese un número real\"))\n",
    "d=(input(\"Ingrese un número real\"))\n",
    "e=(input(\"Ingrese un número real\"))\n"
   ]
  },
  {
   "attachments": {},
   "cell_type": "markdown",
   "metadata": {},
   "source": [
    "Escriba un programa que reciba el nombre en minúsculas de un país de America y retorne la ciudad capital, si el país no pertenece al continente debe arrojar: país no identificado."
   ]
  },
  {
   "cell_type": "code",
   "execution_count": 13,
   "metadata": {},
   "outputs": [
    {
     "name": "stdout",
     "output_type": "stream",
     "text": [
      "País no identificado.\n"
     ]
    }
   ],
   "source": [
    "Capitales = {\n",
    "    \"antigua y barbuda\" : \"Saint John\",\n",
    "    \"argentina\": \"Buenos Aires\",\n",
    "    \"bahamas\" : \"Nasáu\",\n",
    "    \"barbados\" : \"Bridgetown\",\n",
    "    \"bolivia\": \"La Paz\",\n",
    "    \"brasil\": \"Brasilia\",\n",
    "    \"canadá\": \"Ottawa\",\n",
    "    \"chile\": \"Santiago\",\n",
    "    \"colombia\": \"Bogotá\",\n",
    "    \"costa rica\": \"San José\",\n",
    "    \"cuba\": \"La Habana\",\n",
    "    \"dominica\" : \"Roseau\",\n",
    "    \"ecuador\": \"Quito\",\n",
    "    \"estados unidos\": \"Washington D.C\",\n",
    "    \"granada\" : \"Saint George\",\n",
    "    \"guatemala\": \"Ciudad de Guatemala\",\n",
    "    \"guyana\" : \"Georgetown\",\n",
    "    \"haití\": \"Puerto Príncipe\",\n",
    "    \"honduras\": \"Tegucigalpa\",\n",
    "    \"jamaica\": \"Kingston\",\n",
    "    \"méxico\": \"Ciudad de México\",\n",
    "    \"nicaragua\": \"Managua\",\n",
    "    \"panamá\": \"Ciudad de Panamá\",\n",
    "    \"paraguay\": \"Asunción\",\n",
    "    \"perú\": \"Lima\",\n",
    "    \"república dominicana\": \"Santo Domingo\",\n",
    "    \"salvador\" : \"San Salvador\",\n",
    "    \"san cristóbal y nieves\":\"Basseterre\",\n",
    "    \"san vicente y las granadinas\" : \"Kingstown\",\n",
    "    \"santa lucía\" : \"Catries\",\n",
    "    \"surinam\" : \"Pabarimo\",\n",
    "    \"trinidad y tobago\" : \"Puerto España\",\n",
    "    \"uruguay\" : \"Montevideo\",\n",
    "    \"venezuela\": \"Caracas\"\n",
    "}\n",
    "\n",
    "País = input(\"Ingrese el nombre de un país de América en minúsculas: \")\n",
    "\n",
    "if País in Capitales:\n",
    "    capital = Capitales[País]\n",
    "    print(f\"La capital de {País.title()} es {capital.title()}.\")\n",
    "else:\n",
    "    print(\"País no identificado.\")\n"
   ]
  }
 ],
 "metadata": {
  "kernelspec": {
   "display_name": "Python 3",
   "language": "python",
   "name": "python3"
  },
  "language_info": {
   "codemirror_mode": {
    "name": "ipython",
    "version": 3
   },
   "file_extension": ".py",
   "mimetype": "text/x-python",
   "name": "python",
   "nbconvert_exporter": "python",
   "pygments_lexer": "ipython3",
   "version": "3.10.10"
  },
  "orig_nbformat": 4
 },
 "nbformat": 4,
 "nbformat_minor": 2
}
